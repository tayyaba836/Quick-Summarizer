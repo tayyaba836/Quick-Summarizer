{
  "nbformat": 4,
  "nbformat_minor": 0,
  "metadata": {
    "colab": {
      "provenance": []
    },
    "kernelspec": {
      "name": "python3",
      "display_name": "Python 3"
    },
    "language_info": {
      "name": "python"
    }
  },
  "cells": [
    {
      "cell_type": "code",
      "execution_count": 7,
      "metadata": {
        "colab": {
          "base_uri": "https://localhost:8080/"
        },
        "id": "nBxrogDolbn0",
        "outputId": "1ff7bd78-743a-476b-8132-f95d0560d947"
      },
      "outputs": [
        {
          "output_type": "stream",
          "name": "stdout",
          "text": [
            "Requirement already satisfied: nltk in /usr/local/lib/python3.12/dist-packages (3.9.1)\n",
            "Requirement already satisfied: click in /usr/local/lib/python3.12/dist-packages (from nltk) (8.3.0)\n",
            "Requirement already satisfied: joblib in /usr/local/lib/python3.12/dist-packages (from nltk) (1.5.2)\n",
            "Requirement already satisfied: regex>=2021.8.3 in /usr/local/lib/python3.12/dist-packages (from nltk) (2024.11.6)\n",
            "Requirement already satisfied: tqdm in /usr/local/lib/python3.12/dist-packages (from nltk) (4.67.1)\n"
          ]
        },
        {
          "output_type": "stream",
          "name": "stderr",
          "text": [
            "[nltk_data] Downloading package punkt to /root/nltk_data...\n",
            "[nltk_data]   Package punkt is already up-to-date!\n",
            "[nltk_data] Downloading package stopwords to /root/nltk_data...\n",
            "[nltk_data]   Package stopwords is already up-to-date!\n"
          ]
        },
        {
          "output_type": "execute_result",
          "data": {
            "text/plain": [
              "True"
            ]
          },
          "metadata": {},
          "execution_count": 7
        }
      ],
      "source": [
        "# Install NLTK (if not already installed)\n",
        "!pip install nltk\n",
        "\n",
        "# Import libraries\n",
        "import nltk\n",
        "from nltk.tokenize import sent_tokenize, word_tokenize\n",
        "from nltk.corpus import stopwords\n",
        "from collections import defaultdict\n",
        "import heapq\n",
        "\n",
        "# Download required NLTK data\n",
        "nltk.download('punkt')\n",
        "nltk.download('stopwords')\n"
      ]
    },
    {
      "cell_type": "code",
      "source": [
        "# Sample text to summarize\n",
        "text = \"\"\"\n",
        "Artificial Intelligence (AI) is the simulation of human intelligence in machines that are programmed to think and learn.\n",
        "It has become one of the most important technologies in the modern world. AI can process large amounts of data quickly\n",
        "and accurately, helping businesses and individuals make smarter decisions. Applications of AI include natural language\n",
        "processing, computer vision, robotics, healthcare, finance, and more. With the rapid development of AI, ethical\n",
        "considerations like privacy, bias, and job displacement must also be addressed. Overall, AI has the potential to\n",
        "revolutionize industries, improve efficiency, and create new opportunities.\n",
        "\"\"\"\n"
      ],
      "metadata": {
        "id": "5bnEpfaOl6Nu"
      },
      "execution_count": 3,
      "outputs": []
    },
    {
      "cell_type": "code",
      "source": [
        "# Tokenize sentences\n",
        "sentences = sent_tokenize(text)\n",
        "\n",
        "# Tokenize words and remove stopwords\n",
        "stop_words = set(stopwords.words('english'))\n",
        "word_frequencies = defaultdict(int)\n",
        "\n",
        "for word in word_tokenize(text):\n",
        "    word = word.lower()\n",
        "    if word not in stop_words and word.isalnum():\n",
        "        word_frequencies[word] += 1\n",
        "\n",
        "# Find maximum frequency\n",
        "max_freq = max(word_frequencies.values())\n",
        "\n",
        "# Normalize frequencies\n",
        "for word in word_frequencies.keys():\n",
        "    word_frequencies[word] = word_frequencies[word] / max_freq\n"
      ],
      "metadata": {
        "id": "NV_LL_GouqKb"
      },
      "execution_count": 9,
      "outputs": []
    },
    {
      "cell_type": "code",
      "source": [
        "sentence_scores = defaultdict(int)\n",
        "\n",
        "for sent in sentences:\n",
        "    for word in word_tokenize(sent.lower()):\n",
        "        if word in word_frequencies:\n",
        "            sentence_scores[sent] += word_frequencies[word]\n"
      ],
      "metadata": {
        "id": "Dzk_3_73uz6g"
      },
      "execution_count": 10,
      "outputs": []
    },
    {
      "cell_type": "code",
      "source": [
        "# Pick top 3 sentences\n",
        "summary_sentences = heapq.nlargest(3, sentence_scores, key=sentence_scores.get)\n",
        "\n",
        "# Combine into a summary\n",
        "summary = ' '.join(summary_sentences)\n",
        "print(\"📄 Original Text:\\n\", text)\n",
        "print(\"\\n📝 Summary:\\n\", summary)\n"
      ],
      "metadata": {
        "colab": {
          "base_uri": "https://localhost:8080/"
        },
        "id": "pwY6FTYYu1xa",
        "outputId": "8ab7652f-8235-4960-81aa-0f45b9942589"
      },
      "execution_count": 15,
      "outputs": [
        {
          "output_type": "stream",
          "name": "stdout",
          "text": [
            "📄 Original Text:\n",
            " \n",
            "Artificial Intelligence (AI) is the simulation of human intelligence in machines that are programmed to think and learn.\n",
            "It has become one of the most important technologies in the modern world. AI can process large amounts of data quickly\n",
            "and accurately, helping businesses and individuals make smarter decisions. Applications of AI include natural language\n",
            "processing, computer vision, robotics, healthcare, finance, and more. With the rapid development of AI, ethical\n",
            "considerations like privacy, bias, and job displacement must also be addressed. Overall, AI has the potential to\n",
            "revolutionize industries, improve efficiency, and create new opportunities.\n",
            "\n",
            "\n",
            "📝 Summary:\n",
            " AI can process large amounts of data quickly\n",
            "and accurately, helping businesses and individuals make smarter decisions. With the rapid development of AI, ethical\n",
            "considerations like privacy, bias, and job displacement must also be addressed. \n",
            "Artificial Intelligence (AI) is the simulation of human intelligence in machines that are programmed to think and learn.\n"
          ]
        }
      ]
    }
  ]
}